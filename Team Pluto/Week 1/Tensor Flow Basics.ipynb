{
 "cells": [
  {
   "cell_type": "markdown",
   "metadata": {},
   "source": [
    "# Tensor Flow Basics\n",
    "\n",
    "### Author: Olufemi Victor\n",
    "##### Team: Project team Pluto: Basics to Computer Vision with Tensorflow.\n",
    "##### Week 1"
   ]
  },
  {
   "cell_type": "markdown",
   "metadata": {},
   "source": [
    "The projects with team pluto all require tensorflow 2.0 and above,one of the many interesting features about tensorflow 2.0+ is that it has Default Eager Execution unlike previous versions of tensorflow. Eager execution simply tells the interpreter to run the code line by line rather than run codes in sesions."
   ]
  },
  {
   "cell_type": "markdown",
   "metadata": {},
   "source": [
    "let's get to it!, first we import tensorflow and confirm the version we are currently running."
   ]
  },
  {
   "cell_type": "code",
   "execution_count": 4,
   "metadata": {},
   "outputs": [
    {
     "data": {
      "text/plain": [
       "'2.1.0'"
      ]
     },
     "execution_count": 4,
     "metadata": {},
     "output_type": "execute_result"
    }
   ],
   "source": [
    "import tensorflow as tf\n",
    "tf.__version__"
   ]
  },
  {
   "cell_type": "markdown",
   "metadata": {},
   "source": [
    "As you can see, i am running the tensorflow 2+ version, this means eager execution is enabled automatically, let me confirm this if true, tf.executing_eagerly() returns boolean"
   ]
  },
  {
   "cell_type": "code",
   "execution_count": 5,
   "metadata": {},
   "outputs": [
    {
     "data": {
      "text/plain": [
       "True"
      ]
     },
     "execution_count": 5,
     "metadata": {},
     "output_type": "execute_result"
    }
   ],
   "source": [
    "tf.executing_eagerly()"
   ]
  },
  {
   "cell_type": "markdown",
   "metadata": {},
   "source": [
    "Next, we create constant tensors and perform simple operations on them. In this short example, i create a tensor with four rows and two columns.On printing the tensor, we see clearly how that it shows the shape and data ty"
   ]
  },
  {
   "cell_type": "code",
   "execution_count": 13,
   "metadata": {},
   "outputs": [
    {
     "name": "stdout",
     "output_type": "stream",
     "text": [
      "tf.Tensor(\n",
      "[[ 7  8]\n",
      " [ 9 10]\n",
      " [11 12]\n",
      " [13 14]], shape=(4, 2), dtype=int32)\n"
     ]
    }
   ],
   "source": [
    "t1 = tf.constant([[7, 8],[9, 10],[11, 12],[13, 14]])\n",
    "print(t1)"
   ]
  },
  {
   "cell_type": "markdown",
   "metadata": {},
   "source": [
    "Let's create another one with the same shape."
   ]
  },
  {
   "cell_type": "code",
   "execution_count": 14,
   "metadata": {},
   "outputs": [
    {
     "name": "stdout",
     "output_type": "stream",
     "text": [
      "tf.Tensor(\n",
      "[[2 4]\n",
      " [2 5]\n",
      " [2 6]\n",
      " [2 7]], shape=(4, 2), dtype=int32)\n"
     ]
    }
   ],
   "source": [
    "t2 = tf.constant([[2,4],[2,5],[2,6],[2,7]])\n",
    "print(t2)"
   ]
  },
  {
   "cell_type": "markdown",
   "metadata": {},
   "source": [
    "Concatenating two tensors: Tensors can be concatenated with respect to their rows or column."
   ]
  },
  {
   "cell_type": "code",
   "execution_count": 21,
   "metadata": {},
   "outputs": [
    {
     "name": "stdout",
     "output_type": "stream",
     "text": [
      "This concatenation has increased the number of rows. See new shape\n",
      "tf.Tensor(\n",
      "[[ 7  8]\n",
      " [ 9 10]\n",
      " [11 12]\n",
      " [13 14]\n",
      " [14 32]\n",
      " [18 50]\n",
      " [22 72]\n",
      " [26 98]], shape=(8, 2), dtype=int32)\n"
     ]
    }
   ],
   "source": [
    "tconcat = tf.concat(values = [t1,t2], axis = 0)\n",
    "print(\"This concatenation has increased the number of rows. See new shape\")\n",
    "print(tconcat)"
   ]
  },
  {
   "cell_type": "code",
   "execution_count": 22,
   "metadata": {},
   "outputs": [
    {
     "name": "stdout",
     "output_type": "stream",
     "text": [
      "This concatenation has increased the number of rows. See new shape\n",
      "tf.Tensor(\n",
      "[[ 7  8 14 32]\n",
      " [ 9 10 18 50]\n",
      " [11 12 22 72]\n",
      " [13 14 26 98]], shape=(4, 4), dtype=int32)\n"
     ]
    }
   ],
   "source": [
    "tconcat = tf.concat(values = [t1,t2], axis = 1)\n",
    "print(\"This concatenation has increased the number of rows. See new shape\")\n",
    "print(tconcat)"
   ]
  },
  {
   "cell_type": "markdown",
   "metadata": {},
   "source": [
    "Create tensors of just zeros, just by describing the shape"
   ]
  },
  {
   "cell_type": "code",
   "execution_count": 25,
   "metadata": {},
   "outputs": [
    {
     "name": "stdout",
     "output_type": "stream",
     "text": [
      "tf.Tensor(\n",
      "[[0 0 0 0 0]\n",
      " [0 0 0 0 0]\n",
      " [0 0 0 0 0]\n",
      " [0 0 0 0 0]], shape=(4, 5), dtype=int32)\n"
     ]
    }
   ],
   "source": [
    "tzeros = tf.zeros(shape = [4,5], dtype = tf.int32)\n",
    "print(tzeros)"
   ]
  },
  {
   "cell_type": "markdown",
   "metadata": {},
   "source": [
    "Create tensors full of ones"
   ]
  },
  {
   "cell_type": "code",
   "execution_count": 26,
   "metadata": {},
   "outputs": [
    {
     "name": "stdout",
     "output_type": "stream",
     "text": [
      "tf.Tensor(\n",
      "[[1 1 1 1 1]\n",
      " [1 1 1 1 1]\n",
      " [1 1 1 1 1]\n",
      " [1 1 1 1 1]], shape=(4, 5), dtype=int32)\n"
     ]
    }
   ],
   "source": [
    "tzeros = tf.ones(shape = [4,5], dtype = tf.int32)\n",
    "print(tzeros)"
   ]
  },
  {
   "cell_type": "markdown",
   "metadata": {},
   "source": [
    "Reshaping your Tensor. See how we can reshape a tensor, but you must keep in mind that the number of values must be equal. The first one has a shape(4,4), that is 16 values, the reshaped one has a shape(a,b) such that (a x b) must be 16 too."
   ]
  },
  {
   "cell_type": "code",
   "execution_count": 36,
   "metadata": {},
   "outputs": [
    {
     "name": "stdout",
     "output_type": "stream",
     "text": [
      "Tensor before reshaping\n",
      "\n",
      "tf.Tensor(\n",
      "[[ 7  8 14 32]\n",
      " [ 9 10 18 50]\n",
      " [11 12 22 72]\n",
      " [13 14 26 98]], shape=(4, 4), dtype=int32) \n",
      "\n",
      "tf.Tensor(\n",
      "[[ 7  8]\n",
      " [14 32]\n",
      " [ 9 10]\n",
      " [18 50]\n",
      " [11 12]\n",
      " [22 72]\n",
      " [13 14]\n",
      " [26 98]], shape=(8, 2), dtype=int32)\n"
     ]
    }
   ],
   "source": [
    "print(\"Tensor before reshaping\\n\")\n",
    "print(tconcat,\"\\n\")\n",
    "t_reshaped = tf.reshape(tensor = tconcat, shape = [8,2])\n",
    "print(t_reshaped)"
   ]
  },
  {
   "cell_type": "markdown",
   "metadata": {},
   "source": [
    "You can also reshape into a 3 dimensional matrix, provided the number of values in the new shape multiply to 16"
   ]
  },
  {
   "cell_type": "code",
   "execution_count": 39,
   "metadata": {},
   "outputs": [
    {
     "name": "stdout",
     "output_type": "stream",
     "text": [
      "Tensor before reshaping\n",
      "\n",
      "tf.Tensor(\n",
      "[[ 7  8 14 32]\n",
      " [ 9 10 18 50]\n",
      " [11 12 22 72]\n",
      " [13 14 26 98]], shape=(4, 4), dtype=int32) \n",
      "\n",
      "see 3D tensor.....\n",
      "\n",
      "tf.Tensor(\n",
      "[[[ 7  8 14 32]\n",
      "  [ 9 10 18 50]]\n",
      "\n",
      " [[11 12 22 72]\n",
      "  [13 14 26 98]]], shape=(2, 2, 4), dtype=int32)\n"
     ]
    }
   ],
   "source": [
    "print(\"Tensor before reshaping\\n\")\n",
    "print(tconcat,\"\\n\")\n",
    "t_reshaped = tf.reshape(tensor = tconcat, shape = [2,2,4])\n",
    "print(\"see 3D tensor.....\\n\")\n",
    "print(t_reshaped)"
   ]
  },
  {
   "cell_type": "markdown",
   "metadata": {},
   "source": [
    "Convert content's datatype from float to integer and vice versa using tf.cast()"
   ]
  },
  {
   "cell_type": "code",
   "execution_count": 48,
   "metadata": {},
   "outputs": [
    {
     "name": "stdout",
     "output_type": "stream",
     "text": [
      "tf.Tensor(\n",
      "[[2.1 3.3 4.6]\n",
      " [4.3 5.2 6.1]\n",
      " [7.2 8.4 9. ]], shape=(3, 3), dtype=float32)\n",
      "\n",
      "see values now formatted as integers\n",
      "tf.Tensor(\n",
      "[[2 3 4]\n",
      " [4 5 6]\n",
      " [7 8 9]], shape=(3, 3), dtype=int32)\n"
     ]
    }
   ],
   "source": [
    "t3 = tf.constant([[2.1,3.3,4.6],[4.3,5.2,6.1],[7.2,8.4,9.0]])\n",
    "print(t3)\n",
    "print(\"\\nsee values now formatted as integers\")\n",
    "print(tf.cast(t3, tf.int32))"
   ]
  },
  {
   "cell_type": "code",
   "execution_count": 50,
   "metadata": {},
   "outputs": [
    {
     "name": "stdout",
     "output_type": "stream",
     "text": [
      "tf.Tensor(\n",
      "[[2 3 4]\n",
      " [4 5 6]\n",
      " [7 8 9]], shape=(3, 3), dtype=int32)\n",
      "\n",
      "see values now formatted as float\n",
      "tf.Tensor(\n",
      "[[2. 3. 4.]\n",
      " [4. 5. 6.]\n",
      " [7. 8. 9.]], shape=(3, 3), dtype=float32)\n"
     ]
    }
   ],
   "source": [
    "t3 = tf.constant([[2,3,4],[4,5,6],[7,8,9]])\n",
    "print(t3)\n",
    "print(\"\\nsee values now formatted as float\")\n",
    "print(tf.cast(t3, tf.float32))"
   ]
  },
  {
   "cell_type": "markdown",
   "metadata": {},
   "source": [
    "###### SIMPLE ALGEBRAIC OPERATIONS"
   ]
  },
  {
   "cell_type": "markdown",
   "metadata": {},
   "source": [
    "###### Transpose"
   ]
  },
  {
   "cell_type": "markdown",
   "metadata": {},
   "source": [
    "Transpose: the matrix transpose function can easily be done using tf.transpose()"
   ]
  },
  {
   "cell_type": "code",
   "execution_count": 73,
   "metadata": {},
   "outputs": [
    {
     "name": "stdout",
     "output_type": "stream",
     "text": [
      "tf.Tensor(\n",
      "[[2 3 4 5 6 7]\n",
      " [7 6 5 4 3 2]\n",
      " [2 3 4 5 6 7]], shape=(3, 6), dtype=int32)\n",
      "\n",
      " let's transpose this matrix\n",
      "tf.Tensor(\n",
      "[[2 7 2]\n",
      " [3 6 3]\n",
      " [4 5 4]\n",
      " [5 4 5]\n",
      " [6 3 6]\n",
      " [7 2 7]], shape=(6, 3), dtype=int32)\n"
     ]
    }
   ],
   "source": [
    "t4 = tf.constant([[2,3,4,5,6,7],[7,6,5,4,3,2],[2,3,4,5,6,7]])\n",
    "print(t4)\n",
    "\n",
    "print(\"\\n let's transpose this matrix\")\n",
    "print(tf.transpose(t4))"
   ]
  },
  {
   "cell_type": "markdown",
   "metadata": {},
   "source": [
    "###### Multiplication"
   ]
  },
  {
   "cell_type": "markdown",
   "metadata": {},
   "source": [
    "Multiplication: As the rule is for any matrix multiplication, the number of rows of A must be equal to the number of column in B for matrix multiplication of A and B."
   ]
  },
  {
   "cell_type": "markdown",
   "metadata": {},
   "source": [
    "I'll cheat here by just using t4 and t4's transpose, this satisfies the rule."
   ]
  },
  {
   "cell_type": "code",
   "execution_count": 63,
   "metadata": {},
   "outputs": [
    {
     "name": "stdout",
     "output_type": "stream",
     "text": [
      "see matrix A tf.Tensor(\n",
      "[[2 3 4 5 6 7]\n",
      " [7 6 5 4 3 2]\n",
      " [2 3 4 5 6 7]], shape=(3, 6), dtype=int32)\n",
      "see matrix B\n",
      " tf.Tensor(\n",
      "[[2 7 2]\n",
      " [3 6 3]\n",
      " [4 5 4]\n",
      " [5 4 5]\n",
      " [6 3 6]\n",
      " [7 2 7]], shape=(6, 3), dtype=int32)\n",
      "\n",
      " see matrix multiplication tf.Tensor(\n",
      "[[ 57  54  51  48  45  42]\n",
      " [ 54  54  54  54  54  54]\n",
      " [ 51  54  57  60  63  66]\n",
      " [ 48  54  60  66  72  78]\n",
      " [ 45  54  63  72  81  90]\n",
      " [ 42  54  66  78  90 102]], shape=(6, 6), dtype=int32)\n"
     ]
    }
   ],
   "source": [
    "print(\"see matrix A\",t4)\n",
    "t5 = tf.transpose(t4)\n",
    "print(\"see matrix B\\n\", t5)\n",
    "t6 = tf.matmul(t5,t4)\n",
    "print(\"\\n see matrix multiplication\", t6)"
   ]
  },
  {
   "cell_type": "markdown",
   "metadata": {},
   "source": [
    "Element wise Multiplication: For element wise multiplication, the two tensors must have equal number of rows and column, unless one of the matrix has a single row or column."
   ]
  },
  {
   "cell_type": "code",
   "execution_count": 69,
   "metadata": {},
   "outputs": [
    {
     "name": "stdout",
     "output_type": "stream",
     "text": [
      "tf.Tensor(\n",
      "[[ 2  6 10  6]\n",
      " [14 18 22 12]], shape=(2, 4), dtype=int32)\n"
     ]
    }
   ],
   "source": [
    "t7 = tf.constant([[1,3,5,6],[7,9,11,12]])\n",
    "t8 = tf.constant([[2,2,2,1],[2,2,2,1]])\n",
    "tmultiplied = tf.multiply(t7,t8)\n",
    "print(tmultiplied)"
   ]
  },
  {
   "cell_type": "markdown",
   "metadata": {},
   "source": [
    "###### To Numpy"
   ]
  },
  {
   "cell_type": "markdown",
   "metadata": {},
   "source": [
    "There is a lot of flexibility between tensors and numpy arrays, tensorflow's tensors could be easily converted to arrays. Let's see examples."
   ]
  },
  {
   "cell_type": "code",
   "execution_count": 88,
   "metadata": {},
   "outputs": [
    {
     "name": "stdout",
     "output_type": "stream",
     "text": [
      "Tensor\n",
      " tf.Tensor(\n",
      "[[ 7  8]\n",
      " [ 9 10]\n",
      " [11 12]\n",
      " [13 14]], shape=(4, 2), dtype=int32)\n",
      "\n",
      "As numpy array\n",
      " [[ 7  8]\n",
      " [ 9 10]\n",
      " [11 12]\n",
      " [13 14]]\n"
     ]
    }
   ],
   "source": [
    "print(\"Tensor\\n\", t1)\n",
    "print(\"\\nAs numpy array\\n\",t1.numpy())"
   ]
  },
  {
   "cell_type": "markdown",
   "metadata": {},
   "source": [
    "We see how those extra info about shape and dtype are discarded when converted to numpy arrays, quite interesting."
   ]
  },
  {
   "cell_type": "markdown",
   "metadata": {},
   "source": [
    "Confirm That t1 is of type tensor."
   ]
  },
  {
   "cell_type": "code",
   "execution_count": 95,
   "metadata": {},
   "outputs": [
    {
     "data": {
      "text/plain": [
       "tensorflow.python.framework.ops.EagerTensor"
      ]
     },
     "execution_count": 95,
     "metadata": {},
     "output_type": "execute_result"
    }
   ],
   "source": [
    "type(t1)"
   ]
  },
  {
   "cell_type": "markdown",
   "metadata": {},
   "source": [
    "confirm that the type is now changed to numpy array."
   ]
  },
  {
   "cell_type": "code",
   "execution_count": 96,
   "metadata": {},
   "outputs": [
    {
     "data": {
      "text/plain": [
       "numpy.ndarray"
      ]
     },
     "execution_count": 96,
     "metadata": {},
     "output_type": "execute_result"
    }
   ],
   "source": [
    "type(t1.numpy())"
   ]
  },
  {
   "cell_type": "markdown",
   "metadata": {},
   "source": [
    "###### Determinant"
   ]
  },
  {
   "cell_type": "markdown",
   "metadata": {},
   "source": [
    "To find determinant of matrix, it's quite easy. don't forget rules still apply, So it must be a square matrix, also, the tensor type must be half, float or complex, so we must cast it into these datatype"
   ]
  },
  {
   "cell_type": "code",
   "execution_count": 85,
   "metadata": {},
   "outputs": [
    {
     "name": "stdout",
     "output_type": "stream",
     "text": [
      "square matrix tf.Tensor(\n",
      "[[1. 2. 3. 4.]\n",
      " [4. 3. 2. 1.]\n",
      " [2. 4. 6. 1.]\n",
      " [2. 2. 4. 3.]], shape=(4, 4), dtype=float32)\n",
      "\n",
      "This is info about the determinant\n",
      " -69.99999\n"
     ]
    }
   ],
   "source": [
    "tmat = tf.constant([[1,2,3,4],[4,3,2,1],[2,4,6,1],[2,2,4,3]])\n",
    "t9 = tf.cast(tmat, tf.float32)\n",
    "print(\"square matrix\", t9)\n",
    "\n",
    "print(\"\\nThis is info about the determinant\\n\",tf.linalg.det(t9).numpy())"
   ]
  },
  {
   "cell_type": "markdown",
   "metadata": {},
   "source": [
    "The End."
   ]
  },
  {
   "cell_type": "markdown",
   "metadata": {},
   "source": [
    "Read more from Tensorflow's official docs [here](https://www.tensorflow.org/learn)"
   ]
  }
 ],
 "metadata": {
  "kernelspec": {
   "display_name": "Python 3",
   "language": "python",
   "name": "python3"
  },
  "language_info": {
   "codemirror_mode": {
    "name": "ipython",
    "version": 3
   },
   "file_extension": ".py",
   "mimetype": "text/x-python",
   "name": "python",
   "nbconvert_exporter": "python",
   "pygments_lexer": "ipython3",
   "version": "3.7.4"
  }
 },
 "nbformat": 4,
 "nbformat_minor": 2
}
