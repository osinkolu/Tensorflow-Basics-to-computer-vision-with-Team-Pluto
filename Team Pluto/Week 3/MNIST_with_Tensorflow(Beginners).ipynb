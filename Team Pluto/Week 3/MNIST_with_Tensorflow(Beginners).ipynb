{
 "cells": [
  {
   "cell_type": "markdown",
   "metadata": {},
   "source": [
    "# Simple image Classification (multi-class) with MNIST dataset\n",
    "\n",
    "### Author : Olufemi Victor Tolulope\n",
    "\n",
    "###### Team: Project team Pluto: Basics to Computer Vision with Tensorflow.\n",
    "\n",
    "#### Week 3"
   ]
  },
  {
   "cell_type": "markdown",
   "metadata": {},
   "source": [
    "This is the third week with team pluto, and it has been awesome thus far, in this week's project work, we perform simple multi classification techniques using simple neural networks. This tutorial as before uses the Keras API with tensorflow as backend."
   ]
  },
  {
   "cell_type": "markdown",
   "metadata": {},
   "source": [
    "The dataset used is the popular MNIST dataset."
   ]
  },
  {
   "cell_type": "markdown",
   "metadata": {},
   "source": [
    "To get started, we import the tools we need"
   ]
  },
  {
   "cell_type": "code",
   "execution_count": 1,
   "metadata": {},
   "outputs": [],
   "source": [
    "import tensorflow as tf\n",
    "import numpy as np\n",
    "import matplotlib.pyplot as plt\n",
    "from tensorflow.keras import datasets, layers, models, losses"
   ]
  },
  {
   "cell_type": "markdown",
   "metadata": {},
   "source": [
    "Tensorflow comes with the mnist dataset packed in, so we can easily load the dataset from there. After loading the dataset, i quickly normalize the vlaues, from Elisha's blogposts, we've noticed how that neural networks work better with small input values."
   ]
  },
  {
   "cell_type": "code",
   "execution_count": 2,
   "metadata": {},
   "outputs": [],
   "source": [
    "mnist = datasets.mnist\n",
    "(x_train, y_train),(x_test, y_test) = mnist.load_data()\n",
    "x_train, x_test = x_train / 255.0, x_test / 255.0"
   ]
  },
  {
   "cell_type": "markdown",
   "metadata": {},
   "source": [
    "###### Let's Check some facts about the dataset."
   ]
  },
  {
   "cell_type": "code",
   "execution_count": 3,
   "metadata": {},
   "outputs": [
    {
     "name": "stdout",
     "output_type": "stream",
     "text": [
      "How many images do we have in the training set?  60000\n",
      "How many images do we have in the validation set?  10000\n",
      "Check the size of image in the training set (28, 28)\n",
      "Check the size of the image in the validation set?  (28, 28)\n",
      "How many unique classes do we have in the dataset?  10\n",
      "Kindly list these unique classes?  [0 1 2 3 4 5 6 7 8 9]\n"
     ]
    }
   ],
   "source": [
    "print(\"How many images do we have in the training set? \",len(x_train))\n",
    "print(\"How many images do we have in the validation set? \",len(x_test))\n",
    "print(\"Check the size of image in the training set\",x_train[1].shape)\n",
    "print(\"Check the size of the image in the validation set? \",x_test[1].shape)\n",
    "print(\"How many unique classes do we have in the dataset? \",len(np.unique(y_test)))\n",
    "print(\"Kindly list these unique classes? \", np.unique(y_test))"
   ]
  },
  {
   "cell_type": "markdown",
   "metadata": {},
   "source": [
    "###### Plot in and view some of the images in the dataset."
   ]
  },
  {
   "cell_type": "code",
   "execution_count": 4,
   "metadata": {},
   "outputs": [
    {
     "data": {
      "image/png": "[encoded data removed]",
      "text/plain": [
       "<Figure size 2016x2016 with 5 Axes>"
      ]
     },
     "metadata": {
      "needs_background": "light"
     },
     "output_type": "display_data"
    }
   ],
   "source": [
    "fig, axis = plt.subplots(1,5, figsize = (28,28))\n",
    "for i, ax in enumerate(axis):\n",
    "    ax.imshow(x_train[i])\n",
    "    ax.axis(\"off\")\n",
    "plt.show()"
   ]
  },
  {
   "cell_type": "markdown",
   "metadata": {},
   "source": [
    "###### Building the model\n",
    "The next steps are quite simple, the model is a simple neural network which consists of:\n",
    "\n",
    "1. A flattened layer\n",
    "2. A dense layer (hidden layer with 128 nodes and with activation function as relu) \n",
    "3. A dropout layer.\n",
    "4. An output layer with 10 outputs for 10 classes."
   ]
  },
  {
   "cell_type": "code",
   "execution_count": 5,
   "metadata": {},
   "outputs": [],
   "source": [
    "model = tf.keras.models.Sequential()\n",
    "model.add(layers.Flatten(input_shape = (28,28)))\n",
    "model.add(layers.Dense(128,activation =\"relu\"))\n",
    "model.add(layers.Dropout(0.2))\n",
    "model.add(layers.Dense(10))"
   ]
  },
  {
   "cell_type": "markdown",
   "metadata": {},
   "source": [
    "Here we compile the model using the ADAM optimizer and SparseCategoricalCrossentropy as the loss function."
   ]
  },
  {
   "cell_type": "markdown",
   "metadata": {},
   "source": [
    "After all said and done, we fit the model pasing in the validation data as well as the batch size which I set to 32. The model is to fit for 30 epochs."
   ]
  },
  {
   "cell_type": "code",
   "execution_count": 6,
   "metadata": {},
   "outputs": [
    {
     "name": "stdout",
     "output_type": "stream",
     "text": [
      "Train on 60000 samples, validate on 10000 samples\n",
      "Epoch 1/30\n",
      "60000/60000 [==============================] - 16s 267us/sample - loss: 0.2973 - accuracy: 0.9128 - val_loss: 0.1424 - val_accuracy: 0.9573\n",
      "Epoch 2/30\n",
      "60000/60000 [==============================] - 8s 141us/sample - loss: 0.1423 - accuracy: 0.9580 - val_loss: 0.0977 - val_accuracy: 0.9701\n",
      "Epoch 3/30\n",
      "60000/60000 [==============================] - 9s 145us/sample - loss: 0.1089 - accuracy: 0.9669 - val_loss: 0.0891 - val_accuracy: 0.9708\n",
      "Epoch 4/30\n",
      "60000/60000 [==============================] - 8s 141us/sample - loss: 0.0880 - accuracy: 0.9732 - val_loss: 0.0766 - val_accuracy: 0.9768\n",
      "Epoch 5/30\n",
      "60000/60000 [==============================] - 10s 170us/sample - loss: 0.0775 - accuracy: 0.9751 - val_loss: 0.0724 - val_accuracy: 0.9773\n",
      "Epoch 6/30\n",
      "60000/60000 [==============================] - 11s 180us/sample - loss: 0.0653 - accuracy: 0.9783 - val_loss: 0.0728 - val_accuracy: 0.9779\n",
      "Epoch 7/30\n",
      "60000/60000 [==============================] - 9s 154us/sample - loss: 0.0587 - accuracy: 0.9811 - val_loss: 0.0736 - val_accuracy: 0.9788\n",
      "Epoch 8/30\n",
      "60000/60000 [==============================] - 9s 144us/sample - loss: 0.0527 - accuracy: 0.9827 - val_loss: 0.0764 - val_accuracy: 0.9777\n",
      "Epoch 9/30\n",
      "60000/60000 [==============================] - 8s 141us/sample - loss: 0.0478 - accuracy: 0.9844 - val_loss: 0.0649 - val_accuracy: 0.9797\n",
      "Epoch 10/30\n",
      "60000/60000 [==============================] - 8s 135us/sample - loss: 0.0430 - accuracy: 0.9852 - val_loss: 0.0692 - val_accuracy: 0.9805\n",
      "Epoch 11/30\n",
      "60000/60000 [==============================] - 8s 137us/sample - loss: 0.0414 - accuracy: 0.9864 - val_loss: 0.0696 - val_accuracy: 0.9806\n",
      "Epoch 12/30\n",
      "60000/60000 [==============================] - 8s 137us/sample - loss: 0.0396 - accuracy: 0.9863 - val_loss: 0.0698 - val_accuracy: 0.9813\n",
      "Epoch 13/30\n",
      "60000/60000 [==============================] - 8s 127us/sample - loss: 0.0347 - accuracy: 0.9883 - val_loss: 0.0714 - val_accuracy: 0.9806\n",
      "Epoch 14/30\n",
      "60000/60000 [==============================] - 8s 135us/sample - loss: 0.0332 - accuracy: 0.9887 - val_loss: 0.0752 - val_accuracy: 0.9795\n",
      "Epoch 15/30\n",
      "60000/60000 [==============================] - 9s 155us/sample - loss: 0.0328 - accuracy: 0.9887 - val_loss: 0.0803 - val_accuracy: 0.9794\n",
      "Epoch 16/30\n",
      "60000/60000 [==============================] - 8s 137us/sample - loss: 0.0316 - accuracy: 0.9895 - val_loss: 0.0761 - val_accuracy: 0.9806\n",
      "Epoch 17/30\n",
      "60000/60000 [==============================] - 8s 138us/sample - loss: 0.0297 - accuracy: 0.9898 - val_loss: 0.0829 - val_accuracy: 0.9799\n",
      "Epoch 18/30\n",
      "60000/60000 [==============================] - 9s 154us/sample - loss: 0.0291 - accuracy: 0.9902 - val_loss: 0.0801 - val_accuracy: 0.9808\n",
      "Epoch 19/30\n",
      "60000/60000 [==============================] - 8s 132us/sample - loss: 0.0261 - accuracy: 0.9910 - val_loss: 0.0803 - val_accuracy: 0.9811\n",
      "Epoch 20/30\n",
      "60000/60000 [==============================] - 8s 132us/sample - loss: 0.0281 - accuracy: 0.9905 - val_loss: 0.0810 - val_accuracy: 0.9808\n",
      "Epoch 21/30\n",
      "60000/60000 [==============================] - 8s 133us/sample - loss: 0.0260 - accuracy: 0.9911 - val_loss: 0.0855 - val_accuracy: 0.9815\n",
      "Epoch 22/30\n",
      "60000/60000 [==============================] - 8s 135us/sample - loss: 0.0244 - accuracy: 0.9918 - val_loss: 0.0783 - val_accuracy: 0.9825\n",
      "Epoch 23/30\n",
      "60000/60000 [==============================] - 7s 124us/sample - loss: 0.0241 - accuracy: 0.9916 - val_loss: 0.0859 - val_accuracy: 0.9807\n",
      "Epoch 24/30\n",
      "60000/60000 [==============================] - 8s 130us/sample - loss: 0.0227 - accuracy: 0.9925 - val_loss: 0.0876 - val_accuracy: 0.9800\n",
      "Epoch 25/30\n",
      "60000/60000 [==============================] - 8s 133us/sample - loss: 0.0231 - accuracy: 0.9920 - val_loss: 0.0823 - val_accuracy: 0.9818\n",
      "Epoch 26/30\n",
      "60000/60000 [==============================] - 8s 134us/sample - loss: 0.0223 - accuracy: 0.9921 - val_loss: 0.0877 - val_accuracy: 0.9807\n",
      "Epoch 27/30\n",
      "60000/60000 [==============================] - 8s 130us/sample - loss: 0.0211 - accuracy: 0.9927 - val_loss: 0.0856 - val_accuracy: 0.9807\n",
      "Epoch 28/30\n",
      "60000/60000 [==============================] - 8s 133us/sample - loss: 0.0209 - accuracy: 0.9925 - val_loss: 0.0945 - val_accuracy: 0.9804\n",
      "Epoch 29/30\n",
      "60000/60000 [==============================] - 8s 126us/sample - loss: 0.0200 - accuracy: 0.9933 - val_loss: 0.0913 - val_accuracy: 0.9795\n",
      "Epoch 30/30\n",
      "60000/60000 [==============================] - 7s 122us/sample - loss: 0.0200 - accuracy: 0.9929 - val_loss: 0.0870 - val_accuracy: 0.9823\n"
     ]
    }
   ],
   "source": [
    "model.compile(optimizer = 'adam', loss = losses.SparseCategoricalCrossentropy(from_logits = True) , metrics = [\"accuracy\"])\n",
    "\n",
    "model_history = model.fit(x_train, y_train, epochs = 30, validation_data = (x_test, y_test), batch_size = 32)"
   ]
  },
  {
   "cell_type": "markdown",
   "metadata": {},
   "source": [
    "###### A clear view\n",
    "Here, we see how well the model performed, even though it was not solved using convolutions. The Validation accuracy and Log loss accuracy are quite good."
   ]
  },
  {
   "cell_type": "code",
   "execution_count": 7,
   "metadata": {},
   "outputs": [
    {
     "data": {
      "image/png": "[encoded data removed]",
      "text/plain": [
       "<Figure size 576x576 with 2 Axes>"
      ]
     },
     "metadata": {
      "needs_background": "light"
     },
     "output_type": "display_data"
    }
   ],
   "source": [
    "acc = model_history.history['accuracy']\n",
    "val_acc = model_history.history['val_accuracy']\n",
    "\n",
    "loss = model_history.history['loss']\n",
    "val_loss = model_history.history['val_loss']\n",
    "\n",
    "epochs_range = range(30)\n",
    "\n",
    "plt.figure(figsize=(8, 8))\n",
    "plt.subplot(1, 2, 1)\n",
    "plt.plot(epochs_range, acc, label='Training Accuracy')\n",
    "plt.plot(epochs_range, val_acc, label='Validation Accuracy')\n",
    "plt.legend(loc='lower right')\n",
    "plt.title('Training and Validation Accuracy')\n",
    "\n",
    "plt.subplot(1, 2, 2)\n",
    "plt.plot(epochs_range, loss, label='Training Loss')\n",
    "plt.plot(epochs_range, val_loss, label='Validation Loss')\n",
    "plt.legend(loc='upper right')\n",
    "plt.title('Training and Validation Loss')\n",
    "plt.show()"
   ]
  },
  {
   "cell_type": "markdown",
   "metadata": {},
   "source": [
    "###### With a validation accuracy of 98% we are quite cool, but the question surely arises, can we do better?"
   ]
  },
  {
   "cell_type": "markdown",
   "metadata": {},
   "source": [
    "Yes!!! sure we can. we could do:\n",
    "\n",
    "1. Data augumentaion\n",
    "2. More Regularization Techniques asides dropout.\n",
    "3. Play around with the hyperparameters."
   ]
  },
  {
   "cell_type": "markdown",
   "metadata": {},
   "source": [
    "###### The END"
   ]
  }
 ],
 "metadata": {
  "kernelspec": {
   "display_name": "Python 3",
   "language": "python",
   "name": "python3"
  },
  "language_info": {
   "codemirror_mode": {
    "name": "ipython",
    "version": 3
   },
   "file_extension": ".py",
   "mimetype": "text/x-python",
   "name": "python",
   "nbconvert_exporter": "python",
   "pygments_lexer": "ipython3",
   "version": "3.7.4"
  }
 },
 "nbformat": 4,
 "nbformat_minor": 2
}
